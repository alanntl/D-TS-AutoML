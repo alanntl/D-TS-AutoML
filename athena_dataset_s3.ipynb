{
 "cells": [
  {
   "cell_type": "code",
   "execution_count": 2,
   "metadata": {},
   "outputs": [
    {
     "name": "stdout",
     "output_type": "stream",
     "text": [
      "Collecting boto3\n",
      "  Downloading boto3-1.26.84-py3-none-any.whl (134 kB)\n",
      "\u001b[2K     \u001b[90m━━━━━━━━━━━━━━━━━━━━━━━━━━━━━━━━━━━━━━━\u001b[0m \u001b[32m134.7/134.7 kB\u001b[0m \u001b[31m4.0 MB/s\u001b[0m eta \u001b[36m0:00:00\u001b[0m\n",
      "\u001b[?25hCollecting botocore<1.30.0,>=1.29.84\n",
      "  Downloading botocore-1.29.84-py3-none-any.whl (10.5 MB)\n",
      "\u001b[2K     \u001b[90m━━━━━━━━━━━━━━━━━━━━━━━━━━━━━━━━━━━━━━━━\u001b[0m \u001b[32m10.5/10.5 MB\u001b[0m \u001b[31m55.8 MB/s\u001b[0m eta \u001b[36m0:00:00\u001b[0m00:01\u001b[0m00:01\u001b[0m\n",
      "\u001b[?25hCollecting s3transfer<0.7.0,>=0.6.0\n",
      "  Downloading s3transfer-0.6.0-py3-none-any.whl (79 kB)\n",
      "\u001b[2K     \u001b[90m━━━━━━━━━━━━━━━━━━━━━━━━━━━━━━━━━━━━━━━━\u001b[0m \u001b[32m79.6/79.6 kB\u001b[0m \u001b[31m3.7 MB/s\u001b[0m eta \u001b[36m0:00:00\u001b[0m\n",
      "\u001b[?25hCollecting jmespath<2.0.0,>=0.7.1\n",
      "  Downloading jmespath-1.0.1-py3-none-any.whl (20 kB)\n",
      "Requirement already satisfied: python-dateutil<3.0.0,>=2.1 in /home/codespace/.local/lib/python3.10/site-packages (from botocore<1.30.0,>=1.29.84->boto3) (2.8.2)\n",
      "Requirement already satisfied: urllib3<1.27,>=1.25.4 in /home/codespace/.local/lib/python3.10/site-packages (from botocore<1.30.0,>=1.29.84->boto3) (1.26.14)\n",
      "Requirement already satisfied: six>=1.5 in /home/codespace/.local/lib/python3.10/site-packages (from python-dateutil<3.0.0,>=2.1->botocore<1.30.0,>=1.29.84->boto3) (1.16.0)\n",
      "Installing collected packages: jmespath, botocore, s3transfer, boto3\n",
      "Successfully installed boto3-1.26.84 botocore-1.29.84 jmespath-1.0.1 s3transfer-0.6.0\n",
      "\n",
      "\u001b[1m[\u001b[0m\u001b[34;49mnotice\u001b[0m\u001b[1;39;49m]\u001b[0m\u001b[39;49m A new release of pip is available: \u001b[0m\u001b[31;49m23.0\u001b[0m\u001b[39;49m -> \u001b[0m\u001b[32;49m23.0.1\u001b[0m\n",
      "\u001b[1m[\u001b[0m\u001b[34;49mnotice\u001b[0m\u001b[1;39;49m]\u001b[0m\u001b[39;49m To update, run: \u001b[0m\u001b[32;49mpython -m pip install --upgrade pip\u001b[0m\n"
     ]
    }
   ],
   "source": [
    "!pip install boto3"
   ]
  },
  {
   "cell_type": "code",
   "execution_count": 3,
   "metadata": {},
   "outputs": [],
   "source": [
    "import boto3\n",
    "import pandas as pd\n",
    "\n",
    "# Set the parameters\n",
    "database = 'test_table'\n",
    "table = 'your-athena-table'\n",
    "s3_staging_dir = 's3://your-s3-bucket/athena-staging/'\n",
    "region = 'your-aws-region'\n",
    "\n",
    "# Create a client for Athena\n",
    "athena = boto3.client('athena', region_name=region)\n",
    "\n",
    "# Submit a query to Athena\n",
    "query = f\"SELECT * FROM {database}.{table}\"\n",
    "response = athena.start_query_execution(\n",
    "    QueryString=query,\n",
    "    QueryExecutionContext={\n",
    "        'Database': database\n",
    "    },\n",
    "    ResultConfiguration={\n",
    "        'OutputLocation': s3_staging_dir\n",
    "    }\n",
    ")\n",
    "\n",
    "# Wait for the query to complete\n",
    "query_execution_id = response['QueryExecutionId']\n",
    "status = 'RUNNING'\n",
    "while status in ['RUNNING', 'QUEUED']:\n",
    "    response = athena.get_query_execution(QueryExecutionId=query_execution_id)\n",
    "    status = response['QueryExecution']['Status']['State']\n",
    "\n",
    "# Retrieve the query results\n",
    "response = athena.get_query_results(QueryExecutionId=query_execution_id)\n",
    "rows = response['ResultSet']['Rows']\n",
    "\n",
    "# Create a Pandas DataFrame from the rows\n",
    "data = [list(row['Data'].values()) for row in rows]\n",
    "df = pd.DataFrame(data[1:], columns=data[0])\n",
    "\n",
    "# Print the DataFrame\n",
    "print(df.head())"
   ]
  },
  {
   "cell_type": "code",
   "execution_count": null,
   "metadata": {},
   "outputs": [],
   "source": [
    "import pandas as pd\n",
    "from get_s3_data import get_s3_data\n",
    "\n",
    "# Set the parameters\n",
    "bucket = 'your-s3-bucket'\n",
    "key = 'path/to/your/data.csv'\n",
    "s3_staging_dir = 's3://your-s3-bucket/athena-staging/'\n",
    "region = 'your-aws-region'\n",
    "database = 'your-athena-database'\n",
    "table = 'your-athena-table'\n",
    "\n",
    "# Call the function\n",
    "df = get_s3_data(bucket, key, s3_staging_dir, region, database, table)\n",
    "\n",
    "# Print the DataFrame\n",
    "print(df.head())\n",
    "\n",
    "\n"
   ]
  }
 ],
 "metadata": {
  "kernelspec": {
   "display_name": "Python 3",
   "language": "python",
   "name": "python3"
  },
  "language_info": {
   "codemirror_mode": {
    "name": "ipython",
    "version": 3
   },
   "file_extension": ".py",
   "mimetype": "text/x-python",
   "name": "python",
   "nbconvert_exporter": "python",
   "pygments_lexer": "ipython3",
   "version": "3.10.4"
  },
  "orig_nbformat": 4
 },
 "nbformat": 4,
 "nbformat_minor": 2
}
