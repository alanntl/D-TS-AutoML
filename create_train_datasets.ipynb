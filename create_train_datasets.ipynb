{
 "cells": [
  {
   "cell_type": "markdown",
   "metadata": {},
   "source": [
    "# Library"
   ]
  },
  {
   "cell_type": "code",
   "execution_count": 10,
   "metadata": {},
   "outputs": [],
   "source": [
    "import pandas as pd\n",
    "import pandas as pd\n",
    "pd.options.plotting.backend = \"plotly\"\n",
    "import util"
   ]
  },
  {
   "cell_type": "markdown",
   "metadata": {},
   "source": [
    "# Data Preprpocessing/ select sensor"
   ]
  },
  {
   "cell_type": "code",
   "execution_count": 11,
   "metadata": {},
   "outputs": [
    {
     "ename": "KeyError",
     "evalue": "'Rows'",
     "output_type": "error",
     "traceback": [
      "\u001b[1;31m---------------------------------------------------------------------------\u001b[0m",
      "\u001b[1;31mKeyError\u001b[0m                                  Traceback (most recent call last)",
      "Cell \u001b[1;32mIn [11], line 4\u001b[0m\n\u001b[0;32m      1\u001b[0m data \u001b[39m=\u001b[39m util\u001b[39m.\u001b[39mget_json_from_api(API_KEY \u001b[39m=\u001b[39m \u001b[39m'\u001b[39m\u001b[39mhttps://onetimesecret.com/secret/qnsp5qp3hyuqqfvz9od4jxm3l674tj7\u001b[39m\u001b[39m'\u001b[39m,\n\u001b[0;32m      2\u001b[0m                       measures\u001b[39m=\u001b[39m [\u001b[39m\"\u001b[39m\u001b[39mtemperature\u001b[39m\u001b[39m\"\u001b[39m, \u001b[39m\"\u001b[39m\u001b[39mco2\u001b[39m\u001b[39m\"\u001b[39m, \u001b[39m\"\u001b[39m\u001b[39miaq\u001b[39m\u001b[39m\"\u001b[39m],\n\u001b[0;32m      3\u001b[0m                       time_filter\u001b[39m=\u001b[39m \u001b[39m\"\u001b[39m\u001b[39mtime between ago(200h) and now()\u001b[39m\u001b[39m\"\u001b[39m )\n\u001b[1;32m----> 4\u001b[0m df_raw \u001b[39m=\u001b[39m util\u001b[39m.\u001b[39;49mdataframe_clean(data)\n\u001b[0;32m      5\u001b[0m df_raw\u001b[39m.\u001b[39mto_csv(\u001b[39m'\u001b[39m\u001b[39m./data_train/\u001b[39m\u001b[39m'\u001b[39m\u001b[39m+\u001b[39m\u001b[39m'\u001b[39m\u001b[39mdf_raw.csv\u001b[39m\u001b[39m'\u001b[39m)\n\u001b[0;32m      6\u001b[0m dfs \u001b[39m=\u001b[39m util\u001b[39m.\u001b[39mdf_group_by_col(df\u001b[39m=\u001b[39mdf_raw, col\u001b[39m=\u001b[39m\u001b[39m'\u001b[39m\u001b[39mdeviceId\u001b[39m\u001b[39m'\u001b[39m)\n",
      "File \u001b[1;32mc:\\Users\\ANPCC\\OneDrive\\Documents\\Coding\\IAQ_dynamic_analytics\\util.py:28\u001b[0m, in \u001b[0;36mdataframe_clean\u001b[1;34m(data)\u001b[0m\n\u001b[0;32m     27\u001b[0m \u001b[39mdef\u001b[39;00m \u001b[39mdataframe_clean\u001b[39m(data):\n\u001b[1;32m---> 28\u001b[0m     df \u001b[39m=\u001b[39m pd\u001b[39m.\u001b[39mDataFrame(data[\u001b[39m\"\u001b[39;49m\u001b[39mRows\u001b[39;49m\u001b[39m\"\u001b[39;49m], columns\u001b[39m=\u001b[39mdata[\u001b[39m\"\u001b[39m\u001b[39mColumnName\u001b[39m\u001b[39m\"\u001b[39m])\n\u001b[0;32m     29\u001b[0m     df \u001b[39m=\u001b[39m df\u001b[39m.\u001b[39mastype({\u001b[39m\"\u001b[39m\u001b[39mtemperature\u001b[39m\u001b[39m\"\u001b[39m: \u001b[39m\"\u001b[39m\u001b[39mfloat64\u001b[39m\u001b[39m\"\u001b[39m, \u001b[39m\"\u001b[39m\u001b[39mco2\u001b[39m\u001b[39m\"\u001b[39m: \u001b[39m\"\u001b[39m\u001b[39mfloat64\u001b[39m\u001b[39m\"\u001b[39m, \u001b[39m\"\u001b[39m\u001b[39miaq\u001b[39m\u001b[39m\"\u001b[39m: \u001b[39m\"\u001b[39m\u001b[39mfloat64\u001b[39m\u001b[39m\"\u001b[39m, \u001b[39m\"\u001b[39m\u001b[39mdeviceId\u001b[39m\u001b[39m\"\u001b[39m: \u001b[39m\"\u001b[39m\u001b[39mstr\u001b[39m\u001b[39m\"\u001b[39m})\n\u001b[0;32m     30\u001b[0m     df\u001b[39m.\u001b[39mtime \u001b[39m=\u001b[39m pd\u001b[39m.\u001b[39mto_datetime(df\u001b[39m.\u001b[39mtime)\n",
      "\u001b[1;31mKeyError\u001b[0m: 'Rows'"
     ]
    }
   ],
   "source": [
    "data = util.get_json_from_api(API_KEY = 'https://onetimesecret.com/secret/qnsp5qp3hyuqqfvz9od4jxm3l674tj7',\n",
    "                      measures= [\"temperature\", \"co2\", \"iaq\"],\n",
    "                      time_filter= \"time between ago(200h) and now()\" )\n",
    "df_raw = util.dataframe_clean(data)\n",
    "df_raw.to_csv('./data_train/'+'df_raw.csv')\n",
    "dfs = util.df_group_by_col(df=df_raw, col='deviceId')\n",
    "dfs"
   ]
  },
  {
   "cell_type": "markdown",
   "metadata": {},
   "source": [
    "# Setup forecast targets"
   ]
  },
  {
   "cell_type": "code",
   "execution_count": 7,
   "metadata": {},
   "outputs": [
    {
     "name": "stderr",
     "output_type": "stream",
     "text": [
      "C:\\Users\\ANPCC\\AppData\\Local\\Temp\\ipykernel_29760\\2737748094.py:7: SettingWithCopyWarning: \n",
      "A value is trying to be set on a copy of a slice from a DataFrame.\n",
      "Try using .loc[row_indexer,col_indexer] = value instead\n",
      "\n",
      "See the caveats in the documentation: https://pandas.pydata.org/pandas-docs/stable/user_guide/indexing.html#returning-a-view-versus-a-copy\n",
      "  dataset['target'] = dataset[target].shift(-15)\n",
      "C:\\Users\\ANPCC\\AppData\\Local\\Temp\\ipykernel_29760\\2737748094.py:7: SettingWithCopyWarning: \n",
      "A value is trying to be set on a copy of a slice from a DataFrame.\n",
      "Try using .loc[row_indexer,col_indexer] = value instead\n",
      "\n",
      "See the caveats in the documentation: https://pandas.pydata.org/pandas-docs/stable/user_guide/indexing.html#returning-a-view-versus-a-copy\n",
      "  dataset['target'] = dataset[target].shift(-15)\n",
      "C:\\Users\\ANPCC\\AppData\\Local\\Temp\\ipykernel_29760\\2737748094.py:7: SettingWithCopyWarning: \n",
      "A value is trying to be set on a copy of a slice from a DataFrame.\n",
      "Try using .loc[row_indexer,col_indexer] = value instead\n",
      "\n",
      "See the caveats in the documentation: https://pandas.pydata.org/pandas-docs/stable/user_guide/indexing.html#returning-a-view-versus-a-copy\n",
      "  dataset['target'] = dataset[target].shift(-15)\n",
      "C:\\Users\\ANPCC\\AppData\\Local\\Temp\\ipykernel_29760\\2737748094.py:7: SettingWithCopyWarning: \n",
      "A value is trying to be set on a copy of a slice from a DataFrame.\n",
      "Try using .loc[row_indexer,col_indexer] = value instead\n",
      "\n",
      "See the caveats in the documentation: https://pandas.pydata.org/pandas-docs/stable/user_guide/indexing.html#returning-a-view-versus-a-copy\n",
      "  dataset['target'] = dataset[target].shift(-15)\n",
      "C:\\Users\\ANPCC\\AppData\\Local\\Temp\\ipykernel_29760\\2737748094.py:7: SettingWithCopyWarning: \n",
      "A value is trying to be set on a copy of a slice from a DataFrame.\n",
      "Try using .loc[row_indexer,col_indexer] = value instead\n",
      "\n",
      "See the caveats in the documentation: https://pandas.pydata.org/pandas-docs/stable/user_guide/indexing.html#returning-a-view-versus-a-copy\n",
      "  dataset['target'] = dataset[target].shift(-15)\n"
     ]
    }
   ],
   "source": [
    "list_target = ['temperature','co2','iaq']\n",
    "# co2 as target\n",
    "for df in dfs:\n",
    "    deviceid = df['deviceId'][0]\n",
    "    for target in list_target:\n",
    "        dataset = df\n",
    "        dataset['target'] = dataset[target].shift(-15)\n",
    "        dataset = dataset[:-15]\n",
    "        dataset.to_csv('./data_train/'+target+'_'+deviceid+'.csv')"
   ]
  }
 ],
 "metadata": {
  "kernelspec": {
   "display_name": "Python 3.8.13 ('automl38')",
   "language": "python",
   "name": "python3"
  },
  "language_info": {
   "codemirror_mode": {
    "name": "ipython",
    "version": 3
   },
   "file_extension": ".py",
   "mimetype": "text/x-python",
   "name": "python",
   "nbconvert_exporter": "python",
   "pygments_lexer": "ipython3",
   "version": "3.8.13"
  },
  "orig_nbformat": 4,
  "vscode": {
   "interpreter": {
    "hash": "04510d5b3c116abf5a6e39623d4f7b1ccf2d5b89ffc8caf31331539c124ac247"
   }
  }
 },
 "nbformat": 4,
 "nbformat_minor": 2
}
